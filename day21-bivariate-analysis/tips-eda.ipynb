{
 "cells": [
  {
   "cell_type": "code",
   "execution_count": 1,
   "id": "881118d8-e6f0-4bfd-95ef-709c21b6a71a",
   "metadata": {},
   "outputs": [],
   "source": [
    "import pandas as pd\n",
    "import seaborn as sns\n",
    "import matplotlib.pyplot as plt"
   ]
  },
  {
   "cell_type": "code",
   "execution_count": 2,
   "id": "d04d06b9-41b1-48ef-9908-97b261dbf758",
   "metadata": {},
   "outputs": [],
   "source": [
    "tips = sns.load_dataset('tips')"
   ]
  },
  {
   "cell_type": "markdown",
   "id": "df45ad37-3fb7-48ab-8c28-f35c51d760ad",
   "metadata": {},
   "source": [
    "`Let's do the first 7 basic questions`   \n",
    "`1. How Big is the data`  \n",
    "`2. How does the data look like`  \n",
    "`3. What is the data type of cols?`  \n",
    "`4. Are there any missing values?`  \n",
    "`5. How does the data look mathematically?`  \n",
    "`6. Are there duplicate values?`   \n",
    "`7. How is the correlation between cols?  `"
   ]
  },
  {
   "cell_type": "markdown",
   "id": "45d08ad9-fe93-489c-9ce7-4c56b96200fd",
   "metadata": {},
   "source": [
    "# 1. How Big is the data"
   ]
  },
  {
   "cell_type": "code",
   "execution_count": 3,
   "id": "b1887666-ba26-448b-a56d-ba8cf79145e0",
   "metadata": {},
   "outputs": [
    {
     "data": {
      "text/plain": [
       "(244, 7)"
      ]
     },
     "execution_count": 3,
     "metadata": {},
     "output_type": "execute_result"
    }
   ],
   "source": [
    "tips.shape"
   ]
  },
  {
   "cell_type": "markdown",
   "id": "aafc3b23-95fd-4fb3-b277-f8cba9b6563b",
   "metadata": {},
   "source": [
    "`244 Rows, 7 Columns`"
   ]
  },
  {
   "cell_type": "markdown",
   "id": "d5372b3a-1786-40a1-892b-dabe1c2a765c",
   "metadata": {},
   "source": [
    "# 2. How does the data look like?"
   ]
  },
  {
   "cell_type": "code",
   "execution_count": 4,
   "id": "e0026354-301c-4f5d-8fcc-0a2df6146b26",
   "metadata": {},
   "outputs": [
    {
     "data": {
      "text/html": [
       "<div>\n",
       "<style scoped>\n",
       "    .dataframe tbody tr th:only-of-type {\n",
       "        vertical-align: middle;\n",
       "    }\n",
       "\n",
       "    .dataframe tbody tr th {\n",
       "        vertical-align: top;\n",
       "    }\n",
       "\n",
       "    .dataframe thead th {\n",
       "        text-align: right;\n",
       "    }\n",
       "</style>\n",
       "<table border=\"1\" class=\"dataframe\">\n",
       "  <thead>\n",
       "    <tr style=\"text-align: right;\">\n",
       "      <th></th>\n",
       "      <th>total_bill</th>\n",
       "      <th>tip</th>\n",
       "      <th>sex</th>\n",
       "      <th>smoker</th>\n",
       "      <th>day</th>\n",
       "      <th>time</th>\n",
       "      <th>size</th>\n",
       "    </tr>\n",
       "  </thead>\n",
       "  <tbody>\n",
       "    <tr>\n",
       "      <th>0</th>\n",
       "      <td>16.99</td>\n",
       "      <td>1.01</td>\n",
       "      <td>Female</td>\n",
       "      <td>No</td>\n",
       "      <td>Sun</td>\n",
       "      <td>Dinner</td>\n",
       "      <td>2</td>\n",
       "    </tr>\n",
       "    <tr>\n",
       "      <th>1</th>\n",
       "      <td>10.34</td>\n",
       "      <td>1.66</td>\n",
       "      <td>Male</td>\n",
       "      <td>No</td>\n",
       "      <td>Sun</td>\n",
       "      <td>Dinner</td>\n",
       "      <td>3</td>\n",
       "    </tr>\n",
       "    <tr>\n",
       "      <th>2</th>\n",
       "      <td>21.01</td>\n",
       "      <td>3.50</td>\n",
       "      <td>Male</td>\n",
       "      <td>No</td>\n",
       "      <td>Sun</td>\n",
       "      <td>Dinner</td>\n",
       "      <td>3</td>\n",
       "    </tr>\n",
       "    <tr>\n",
       "      <th>3</th>\n",
       "      <td>23.68</td>\n",
       "      <td>3.31</td>\n",
       "      <td>Male</td>\n",
       "      <td>No</td>\n",
       "      <td>Sun</td>\n",
       "      <td>Dinner</td>\n",
       "      <td>2</td>\n",
       "    </tr>\n",
       "    <tr>\n",
       "      <th>4</th>\n",
       "      <td>24.59</td>\n",
       "      <td>3.61</td>\n",
       "      <td>Female</td>\n",
       "      <td>No</td>\n",
       "      <td>Sun</td>\n",
       "      <td>Dinner</td>\n",
       "      <td>4</td>\n",
       "    </tr>\n",
       "    <tr>\n",
       "      <th>5</th>\n",
       "      <td>25.29</td>\n",
       "      <td>4.71</td>\n",
       "      <td>Male</td>\n",
       "      <td>No</td>\n",
       "      <td>Sun</td>\n",
       "      <td>Dinner</td>\n",
       "      <td>4</td>\n",
       "    </tr>\n",
       "    <tr>\n",
       "      <th>6</th>\n",
       "      <td>8.77</td>\n",
       "      <td>2.00</td>\n",
       "      <td>Male</td>\n",
       "      <td>No</td>\n",
       "      <td>Sun</td>\n",
       "      <td>Dinner</td>\n",
       "      <td>2</td>\n",
       "    </tr>\n",
       "    <tr>\n",
       "      <th>7</th>\n",
       "      <td>26.88</td>\n",
       "      <td>3.12</td>\n",
       "      <td>Male</td>\n",
       "      <td>No</td>\n",
       "      <td>Sun</td>\n",
       "      <td>Dinner</td>\n",
       "      <td>4</td>\n",
       "    </tr>\n",
       "    <tr>\n",
       "      <th>8</th>\n",
       "      <td>15.04</td>\n",
       "      <td>1.96</td>\n",
       "      <td>Male</td>\n",
       "      <td>No</td>\n",
       "      <td>Sun</td>\n",
       "      <td>Dinner</td>\n",
       "      <td>2</td>\n",
       "    </tr>\n",
       "    <tr>\n",
       "      <th>9</th>\n",
       "      <td>14.78</td>\n",
       "      <td>3.23</td>\n",
       "      <td>Male</td>\n",
       "      <td>No</td>\n",
       "      <td>Sun</td>\n",
       "      <td>Dinner</td>\n",
       "      <td>2</td>\n",
       "    </tr>\n",
       "  </tbody>\n",
       "</table>\n",
       "</div>"
      ],
      "text/plain": [
       "   total_bill   tip     sex smoker  day    time  size\n",
       "0       16.99  1.01  Female     No  Sun  Dinner     2\n",
       "1       10.34  1.66    Male     No  Sun  Dinner     3\n",
       "2       21.01  3.50    Male     No  Sun  Dinner     3\n",
       "3       23.68  3.31    Male     No  Sun  Dinner     2\n",
       "4       24.59  3.61  Female     No  Sun  Dinner     4\n",
       "5       25.29  4.71    Male     No  Sun  Dinner     4\n",
       "6        8.77  2.00    Male     No  Sun  Dinner     2\n",
       "7       26.88  3.12    Male     No  Sun  Dinner     4\n",
       "8       15.04  1.96    Male     No  Sun  Dinner     2\n",
       "9       14.78  3.23    Male     No  Sun  Dinner     2"
      ]
     },
     "execution_count": 4,
     "metadata": {},
     "output_type": "execute_result"
    }
   ],
   "source": [
    "tips.head(10)"
   ]
  },
  {
   "cell_type": "code",
   "execution_count": 5,
   "id": "4aa8ec1f-17c8-4180-a934-4c585cd4ea85",
   "metadata": {},
   "outputs": [
    {
     "data": {
      "text/html": [
       "<div>\n",
       "<style scoped>\n",
       "    .dataframe tbody tr th:only-of-type {\n",
       "        vertical-align: middle;\n",
       "    }\n",
       "\n",
       "    .dataframe tbody tr th {\n",
       "        vertical-align: top;\n",
       "    }\n",
       "\n",
       "    .dataframe thead th {\n",
       "        text-align: right;\n",
       "    }\n",
       "</style>\n",
       "<table border=\"1\" class=\"dataframe\">\n",
       "  <thead>\n",
       "    <tr style=\"text-align: right;\">\n",
       "      <th></th>\n",
       "      <th>total_bill</th>\n",
       "      <th>tip</th>\n",
       "      <th>sex</th>\n",
       "      <th>smoker</th>\n",
       "      <th>day</th>\n",
       "      <th>time</th>\n",
       "      <th>size</th>\n",
       "    </tr>\n",
       "  </thead>\n",
       "  <tbody>\n",
       "    <tr>\n",
       "      <th>6</th>\n",
       "      <td>8.77</td>\n",
       "      <td>2.00</td>\n",
       "      <td>Male</td>\n",
       "      <td>No</td>\n",
       "      <td>Sun</td>\n",
       "      <td>Dinner</td>\n",
       "      <td>2</td>\n",
       "    </tr>\n",
       "    <tr>\n",
       "      <th>58</th>\n",
       "      <td>11.24</td>\n",
       "      <td>1.76</td>\n",
       "      <td>Male</td>\n",
       "      <td>Yes</td>\n",
       "      <td>Sat</td>\n",
       "      <td>Dinner</td>\n",
       "      <td>2</td>\n",
       "    </tr>\n",
       "    <tr>\n",
       "      <th>229</th>\n",
       "      <td>22.12</td>\n",
       "      <td>2.88</td>\n",
       "      <td>Female</td>\n",
       "      <td>Yes</td>\n",
       "      <td>Sat</td>\n",
       "      <td>Dinner</td>\n",
       "      <td>2</td>\n",
       "    </tr>\n",
       "    <tr>\n",
       "      <th>200</th>\n",
       "      <td>18.71</td>\n",
       "      <td>4.00</td>\n",
       "      <td>Male</td>\n",
       "      <td>Yes</td>\n",
       "      <td>Thur</td>\n",
       "      <td>Lunch</td>\n",
       "      <td>3</td>\n",
       "    </tr>\n",
       "    <tr>\n",
       "      <th>172</th>\n",
       "      <td>7.25</td>\n",
       "      <td>5.15</td>\n",
       "      <td>Male</td>\n",
       "      <td>Yes</td>\n",
       "      <td>Sun</td>\n",
       "      <td>Dinner</td>\n",
       "      <td>2</td>\n",
       "    </tr>\n",
       "    <tr>\n",
       "      <th>163</th>\n",
       "      <td>13.81</td>\n",
       "      <td>2.00</td>\n",
       "      <td>Male</td>\n",
       "      <td>No</td>\n",
       "      <td>Sun</td>\n",
       "      <td>Dinner</td>\n",
       "      <td>2</td>\n",
       "    </tr>\n",
       "    <tr>\n",
       "      <th>121</th>\n",
       "      <td>13.42</td>\n",
       "      <td>1.68</td>\n",
       "      <td>Female</td>\n",
       "      <td>No</td>\n",
       "      <td>Thur</td>\n",
       "      <td>Lunch</td>\n",
       "      <td>2</td>\n",
       "    </tr>\n",
       "    <tr>\n",
       "      <th>59</th>\n",
       "      <td>48.27</td>\n",
       "      <td>6.73</td>\n",
       "      <td>Male</td>\n",
       "      <td>No</td>\n",
       "      <td>Sat</td>\n",
       "      <td>Dinner</td>\n",
       "      <td>4</td>\n",
       "    </tr>\n",
       "    <tr>\n",
       "      <th>226</th>\n",
       "      <td>10.09</td>\n",
       "      <td>2.00</td>\n",
       "      <td>Female</td>\n",
       "      <td>Yes</td>\n",
       "      <td>Fri</td>\n",
       "      <td>Lunch</td>\n",
       "      <td>2</td>\n",
       "    </tr>\n",
       "    <tr>\n",
       "      <th>92</th>\n",
       "      <td>5.75</td>\n",
       "      <td>1.00</td>\n",
       "      <td>Female</td>\n",
       "      <td>Yes</td>\n",
       "      <td>Fri</td>\n",
       "      <td>Dinner</td>\n",
       "      <td>2</td>\n",
       "    </tr>\n",
       "  </tbody>\n",
       "</table>\n",
       "</div>"
      ],
      "text/plain": [
       "     total_bill   tip     sex smoker   day    time  size\n",
       "6          8.77  2.00    Male     No   Sun  Dinner     2\n",
       "58        11.24  1.76    Male    Yes   Sat  Dinner     2\n",
       "229       22.12  2.88  Female    Yes   Sat  Dinner     2\n",
       "200       18.71  4.00    Male    Yes  Thur   Lunch     3\n",
       "172        7.25  5.15    Male    Yes   Sun  Dinner     2\n",
       "163       13.81  2.00    Male     No   Sun  Dinner     2\n",
       "121       13.42  1.68  Female     No  Thur   Lunch     2\n",
       "59        48.27  6.73    Male     No   Sat  Dinner     4\n",
       "226       10.09  2.00  Female    Yes   Fri   Lunch     2\n",
       "92         5.75  1.00  Female    Yes   Fri  Dinner     2"
      ]
     },
     "execution_count": 5,
     "metadata": {},
     "output_type": "execute_result"
    }
   ],
   "source": [
    "tips.sample(10)"
   ]
  },
  {
   "cell_type": "markdown",
   "id": "3a69a58f-ed55-4668-81c9-4a8526470424",
   "metadata": {},
   "source": [
    "# 3. What is the type of cols?"
   ]
  },
  {
   "cell_type": "code",
   "execution_count": 7,
   "id": "2a3cb0ab-9d25-4c0a-8c2b-c1501d50c9d7",
   "metadata": {},
   "outputs": [
    {
     "name": "stdout",
     "output_type": "stream",
     "text": [
      "<class 'pandas.core.frame.DataFrame'>\n",
      "RangeIndex: 244 entries, 0 to 243\n",
      "Data columns (total 7 columns):\n",
      " #   Column      Non-Null Count  Dtype   \n",
      "---  ------      --------------  -----   \n",
      " 0   total_bill  244 non-null    float64 \n",
      " 1   tip         244 non-null    float64 \n",
      " 2   sex         244 non-null    category\n",
      " 3   smoker      244 non-null    category\n",
      " 4   day         244 non-null    category\n",
      " 5   time        244 non-null    category\n",
      " 6   size        244 non-null    int64   \n",
      "dtypes: category(4), float64(2), int64(1)\n",
      "memory usage: 7.4 KB\n"
     ]
    }
   ],
   "source": [
    "tips.info()"
   ]
  },
  {
   "cell_type": "markdown",
   "id": "2409f71d-633e-407e-9b22-d7a142751d11",
   "metadata": {},
   "source": [
    "# 4. Are there any missing values?"
   ]
  },
  {
   "cell_type": "code",
   "execution_count": 9,
   "id": "80b44b54-518a-4b5a-9193-78953f6bc5e1",
   "metadata": {},
   "outputs": [
    {
     "data": {
      "text/plain": [
       "total_bill    0\n",
       "tip           0\n",
       "sex           0\n",
       "smoker        0\n",
       "day           0\n",
       "time          0\n",
       "size          0\n",
       "dtype: int64"
      ]
     },
     "execution_count": 9,
     "metadata": {},
     "output_type": "execute_result"
    }
   ],
   "source": [
    "tips.isnull().sum()"
   ]
  },
  {
   "cell_type": "markdown",
   "id": "dbb7bee8-d3ad-434e-9edd-b6f39dd0ae20",
   "metadata": {},
   "source": [
    "# 5. How does the data look mathematically?"
   ]
  },
  {
   "cell_type": "code",
   "execution_count": 11,
   "id": "3f5cffc9-df3a-43e7-83a6-e0f2d908e688",
   "metadata": {},
   "outputs": [
    {
     "data": {
      "text/html": [
       "<div>\n",
       "<style scoped>\n",
       "    .dataframe tbody tr th:only-of-type {\n",
       "        vertical-align: middle;\n",
       "    }\n",
       "\n",
       "    .dataframe tbody tr th {\n",
       "        vertical-align: top;\n",
       "    }\n",
       "\n",
       "    .dataframe thead th {\n",
       "        text-align: right;\n",
       "    }\n",
       "</style>\n",
       "<table border=\"1\" class=\"dataframe\">\n",
       "  <thead>\n",
       "    <tr style=\"text-align: right;\">\n",
       "      <th></th>\n",
       "      <th>total_bill</th>\n",
       "      <th>tip</th>\n",
       "      <th>size</th>\n",
       "    </tr>\n",
       "  </thead>\n",
       "  <tbody>\n",
       "    <tr>\n",
       "      <th>count</th>\n",
       "      <td>244.000000</td>\n",
       "      <td>244.000000</td>\n",
       "      <td>244.000000</td>\n",
       "    </tr>\n",
       "    <tr>\n",
       "      <th>mean</th>\n",
       "      <td>19.785943</td>\n",
       "      <td>2.998279</td>\n",
       "      <td>2.569672</td>\n",
       "    </tr>\n",
       "    <tr>\n",
       "      <th>std</th>\n",
       "      <td>8.902412</td>\n",
       "      <td>1.383638</td>\n",
       "      <td>0.951100</td>\n",
       "    </tr>\n",
       "    <tr>\n",
       "      <th>min</th>\n",
       "      <td>3.070000</td>\n",
       "      <td>1.000000</td>\n",
       "      <td>1.000000</td>\n",
       "    </tr>\n",
       "    <tr>\n",
       "      <th>25%</th>\n",
       "      <td>13.347500</td>\n",
       "      <td>2.000000</td>\n",
       "      <td>2.000000</td>\n",
       "    </tr>\n",
       "    <tr>\n",
       "      <th>50%</th>\n",
       "      <td>17.795000</td>\n",
       "      <td>2.900000</td>\n",
       "      <td>2.000000</td>\n",
       "    </tr>\n",
       "    <tr>\n",
       "      <th>75%</th>\n",
       "      <td>24.127500</td>\n",
       "      <td>3.562500</td>\n",
       "      <td>3.000000</td>\n",
       "    </tr>\n",
       "    <tr>\n",
       "      <th>max</th>\n",
       "      <td>50.810000</td>\n",
       "      <td>10.000000</td>\n",
       "      <td>6.000000</td>\n",
       "    </tr>\n",
       "  </tbody>\n",
       "</table>\n",
       "</div>"
      ],
      "text/plain": [
       "       total_bill         tip        size\n",
       "count  244.000000  244.000000  244.000000\n",
       "mean    19.785943    2.998279    2.569672\n",
       "std      8.902412    1.383638    0.951100\n",
       "min      3.070000    1.000000    1.000000\n",
       "25%     13.347500    2.000000    2.000000\n",
       "50%     17.795000    2.900000    2.000000\n",
       "75%     24.127500    3.562500    3.000000\n",
       "max     50.810000   10.000000    6.000000"
      ]
     },
     "execution_count": 11,
     "metadata": {},
     "output_type": "execute_result"
    }
   ],
   "source": [
    "tips.describe()"
   ]
  },
  {
   "cell_type": "markdown",
   "id": "af4590a8-1c18-4764-969a-38416fb959a1",
   "metadata": {},
   "source": [
    "# 6. Are there any duplicate values?"
   ]
  },
  {
   "cell_type": "code",
   "execution_count": 13,
   "id": "bf5b8ec4-dffe-4a92-a4c3-f5ca4c7c3f8e",
   "metadata": {},
   "outputs": [
    {
     "data": {
      "text/plain": [
       "1"
      ]
     },
     "execution_count": 13,
     "metadata": {},
     "output_type": "execute_result"
    }
   ],
   "source": [
    "int(tips.duplicated().sum())"
   ]
  },
  {
   "cell_type": "markdown",
   "id": "29b48d09-dcac-457a-a212-8408eaf6a866",
   "metadata": {},
   "source": [
    "# 7. How is the correlation between columns?"
   ]
  },
  {
   "cell_type": "code",
   "execution_count": 16,
   "id": "cebe8845-1c5c-4b8a-b65c-9403a6dd783a",
   "metadata": {},
   "outputs": [
    {
     "data": {
      "text/html": [
       "<div>\n",
       "<style scoped>\n",
       "    .dataframe tbody tr th:only-of-type {\n",
       "        vertical-align: middle;\n",
       "    }\n",
       "\n",
       "    .dataframe tbody tr th {\n",
       "        vertical-align: top;\n",
       "    }\n",
       "\n",
       "    .dataframe thead th {\n",
       "        text-align: right;\n",
       "    }\n",
       "</style>\n",
       "<table border=\"1\" class=\"dataframe\">\n",
       "  <thead>\n",
       "    <tr style=\"text-align: right;\">\n",
       "      <th></th>\n",
       "      <th>total_bill</th>\n",
       "      <th>tip</th>\n",
       "      <th>size</th>\n",
       "    </tr>\n",
       "  </thead>\n",
       "  <tbody>\n",
       "    <tr>\n",
       "      <th>total_bill</th>\n",
       "      <td>1.000000</td>\n",
       "      <td>0.675734</td>\n",
       "      <td>0.598315</td>\n",
       "    </tr>\n",
       "    <tr>\n",
       "      <th>tip</th>\n",
       "      <td>0.675734</td>\n",
       "      <td>1.000000</td>\n",
       "      <td>0.489299</td>\n",
       "    </tr>\n",
       "    <tr>\n",
       "      <th>size</th>\n",
       "      <td>0.598315</td>\n",
       "      <td>0.489299</td>\n",
       "      <td>1.000000</td>\n",
       "    </tr>\n",
       "  </tbody>\n",
       "</table>\n",
       "</div>"
      ],
      "text/plain": [
       "            total_bill       tip      size\n",
       "total_bill    1.000000  0.675734  0.598315\n",
       "tip           0.675734  1.000000  0.489299\n",
       "size          0.598315  0.489299  1.000000"
      ]
     },
     "execution_count": 16,
     "metadata": {},
     "output_type": "execute_result"
    }
   ],
   "source": [
    "tips.select_dtypes('number').corr()"
   ]
  },
  {
   "cell_type": "markdown",
   "id": "37a4afae-574f-4ef9-9e81-2cdbac236983",
   "metadata": {},
   "source": [
    "`Inferences: `  \n",
    "`Total bill depends on size`  \n",
    "`tip depends on total bill and size`  \n",
    "`size is actually independent`"
   ]
  },
  {
   "cell_type": "markdown",
   "id": "78df732c-c5c7-4657-b164-bbcbd65d45c1",
   "metadata": {},
   "source": [
    "# Univariate Analysis\n",
    "`Let's do univariate analysis of columns from left to right`"
   ]
  },
  {
   "cell_type": "markdown",
   "id": "bae56d1b-3601-4ed2-a19e-83047bbfc4ea",
   "metadata": {},
   "source": [
    "## 1. total_bill -> Numerical Analysis"
   ]
  },
  {
   "cell_type": "code",
   "execution_count": 22,
   "id": "4c741732-4028-40cc-8f00-d72d2ed37b8f",
   "metadata": {},
   "outputs": [
    {
     "data": {
      "text/plain": [
       "(array([ 7., 42., 68., 51., 31., 19., 12.,  7.,  3.,  4.]),\n",
       " array([ 3.07 ,  7.844, 12.618, 17.392, 22.166, 26.94 , 31.714, 36.488,\n",
       "        41.262, 46.036, 50.81 ]),\n",
       " <BarContainer object of 10 artists>)"
      ]
     },
     "execution_count": 22,
     "metadata": {},
     "output_type": "execute_result"
    },
    {
     "data": {
      "image/png": "[encoded data removed]",
      "text/plain": [
       "<Figure size 640x480 with 1 Axes>"
      ]
     },
     "metadata": {},
     "output_type": "display_data"
    }
   ],
   "source": [
    "#Histogram\n",
    "plt.hist(tips['total_bill'])"
   ]
  },
  {
   "cell_type": "markdown",
   "id": "76685e0f-2524-4dba-b515-dc6d5beb94a1",
   "metadata": {},
   "source": [
    "`Inferences: `  \n",
    "`Maximum people paid total bill from 12-18 $`  \n",
    "`Followed by people paying 18-22 $`  \n",
    "`Very less have paid above 41$`"
   ]
  },
  {
   "cell_type": "code",
   "execution_count": 41,
   "id": "197ba644-40d4-4a25-8dcf-9e70c2323913",
   "metadata": {},
   "outputs": [
    {
     "data": {
      "text/plain": [
       "<Axes: xlabel='total_bill', ylabel='Count'>"
      ]
     },
     "execution_count": 41,
     "metadata": {},
     "output_type": "execute_result"
    },
    {
     "data": {
      "image/png": "[encoded data removed]",
      "text/plain": [
       "<Figure size 640x480 with 1 Axes>"
      ]
     },
     "metadata": {},
     "output_type": "display_data"
    }
   ],
   "source": [
    "# distplot\n",
    "sns.histplot(tips['total_bill'], kde=True)"
   ]
  },
  {
   "cell_type": "markdown",
   "id": "3d95829f-bcd5-4578-8742-415feda087bf",
   "metadata": {},
   "source": [
    "`Inferences: `  \n",
    "`majority of people paid bill below 20 dollars`  \n",
    "`The distribution is rightly skewed`"
   ]
  },
  {
   "cell_type": "code",
   "execution_count": 42,
   "id": "d071b8c2-1bb3-496f-a250-f54124d674a8",
   "metadata": {},
   "outputs": [
    {
     "data": {
      "text/plain": [
       "<Axes: xlabel='total_bill'>"
      ]
     },
     "execution_count": 42,
     "metadata": {},
     "output_type": "execute_result"
    },
    {
     "data": {
      "image/png": "[encoded data removed]",
      "text/plain": [
       "<Figure size 640x480 with 1 Axes>"
      ]
     },
     "metadata": {},
     "output_type": "display_data"
    }
   ],
   "source": [
    "# Box Plot\n",
    "sns.boxplot(x = tips['total_bill'])"
   ]
  },
  {
   "cell_type": "markdown",
   "id": "072a2c18-b584-43bd-8133-3a0fbf7ba40f",
   "metadata": {},
   "source": [
    "`Inferences: `  \n",
    "`5 Point summary: `  \n",
    "`25th Percentile: 12`  \n",
    "`75th Percentile: 24`  \n",
    "`Median: 18`  \n",
    "`Min: 1`  \n",
    "`Max: 40`  \n",
    "`outliers: >40`  \n",
    "`(All approx data)`"
   ]
  },
  {
   "cell_type": "code",
   "execution_count": 70,
   "id": "94ae810c-2231-4715-858c-cff95feda27d",
   "metadata": {},
   "outputs": [
    {
     "name": "stdout",
     "output_type": "stream",
     "text": [
      "3.07\n",
      "50.81\n",
      "19.78594262295082\n",
      "1.1332130376158205\n",
      "17.795\n"
     ]
    }
   ],
   "source": [
    "print(tips['total_bill'].min())\n",
    "print(tips['total_bill'].max())\n",
    "print(tips['total_bill'].mean())\n",
    "print(tips['total_bill'].skew())\n",
    "print(tips['total_bill'].median())"
   ]
  },
  {
   "cell_type": "markdown",
   "id": "c360ec98-ca9a-4f46-ba7c-2fb4e959ad03",
   "metadata": {},
   "source": [
    "### Inferences about total_bill:\n",
    "`Many paid: 12-18$`  \n",
    "`outliers: >41$`  \n",
    "`Rightly skewed`  \n",
    "`25th percentile: 12$`  \n",
    "`75th percentile: 24$`  \n",
    "`Median: 17.74$`  \n",
    "`Mean: 19.78$`  "
   ]
  },
  {
   "cell_type": "markdown",
   "id": "7f2028aa-e5a0-45da-8be9-bf87daa04def",
   "metadata": {},
   "source": [
    "## 2. tip - Numerical Analysis"
   ]
  },
  {
   "cell_type": "code",
   "execution_count": 44,
   "id": "c55e8748-dc66-4008-a28a-db217f3f5016",
   "metadata": {},
   "outputs": [
    {
     "data": {
      "text/plain": [
       "(array([ 7.,  4., 15., 10.,  5., 43.,  8.,  4., 18.,  6.,  3., 32., 10.,\n",
       "        17.,  4.,  4., 14.,  4.,  4.,  1.,  3.,  0., 11.,  5.,  0.,  2.,\n",
       "         1.,  2.,  0.,  0.,  2.,  2.,  0.,  0.,  0.,  0.,  1.,  0.,  0.,\n",
       "         0.,  0.,  0.,  0.,  0.,  1.,  0.,  0.,  0.,  0.,  1.]),\n",
       " array([ 1.  ,  1.18,  1.36,  1.54,  1.72,  1.9 ,  2.08,  2.26,  2.44,\n",
       "         2.62,  2.8 ,  2.98,  3.16,  3.34,  3.52,  3.7 ,  3.88,  4.06,\n",
       "         4.24,  4.42,  4.6 ,  4.78,  4.96,  5.14,  5.32,  5.5 ,  5.68,\n",
       "         5.86,  6.04,  6.22,  6.4 ,  6.58,  6.76,  6.94,  7.12,  7.3 ,\n",
       "         7.48,  7.66,  7.84,  8.02,  8.2 ,  8.38,  8.56,  8.74,  8.92,\n",
       "         9.1 ,  9.28,  9.46,  9.64,  9.82, 10.  ]),\n",
       " <BarContainer object of 50 artists>)"
      ]
     },
     "execution_count": 44,
     "metadata": {},
     "output_type": "execute_result"
    },
    {
     "data": {
      "image/png": "[encoded data removed]",
      "text/plain": [
       "<Figure size 640x480 with 1 Axes>"
      ]
     },
     "metadata": {},
     "output_type": "display_data"
    }
   ],
   "source": [
    "# Histogram:\n",
    "plt.hist(tips['tip'], bins=50)"
   ]
  },
  {
   "cell_type": "markdown",
   "id": "9c019401-e7a9-41c9-a61a-1b2da32736f5",
   "metadata": {},
   "source": [
    "`Most of the people gave tip around 2$ and 3$`  \n",
    "`A handful gave more than 5$ tip`\n"
   ]
  },
  {
   "cell_type": "code",
   "execution_count": 45,
   "id": "6ba2e146-3cd2-48c0-8e05-fe46438e730f",
   "metadata": {},
   "outputs": [
    {
     "data": {
      "text/plain": [
       "<Axes: xlabel='tip', ylabel='Count'>"
      ]
     },
     "execution_count": 45,
     "metadata": {},
     "output_type": "execute_result"
    },
    {
     "data": {
      "image/png": "[encoded data removed]",
      "text/plain": [
       "<Figure size 640x480 with 1 Axes>"
      ]
     },
     "metadata": {},
     "output_type": "display_data"
    }
   ],
   "source": [
    "# distplot\n",
    "sns.histplot(tips['tip'], kde=True)"
   ]
  },
  {
   "cell_type": "code",
   "execution_count": 46,
   "id": "df5c8e18-2c9d-4ddc-b852-3abb64126c49",
   "metadata": {},
   "outputs": [
    {
     "data": {
      "text/plain": [
       "<Axes: xlabel='tip'>"
      ]
     },
     "execution_count": 46,
     "metadata": {},
     "output_type": "execute_result"
    },
    {
     "data": {
      "image/png": "[encoded data removed]",
      "text/plain": [
       "<Figure size 640x480 with 1 Axes>"
      ]
     },
     "metadata": {},
     "output_type": "display_data"
    }
   ],
   "source": [
    "# Boxplot\n",
    "sns.boxplot(x = tips['tip'])"
   ]
  },
  {
   "cell_type": "code",
   "execution_count": 52,
   "id": "96531805-b3bc-4aa1-9c8f-66c4f0c258d5",
   "metadata": {},
   "outputs": [
    {
     "name": "stdout",
     "output_type": "stream",
     "text": [
      "1.0\n",
      "10.0\n",
      "2.99827868852459\n",
      "1.4654510370979401\n",
      "2.9\n"
     ]
    }
   ],
   "source": [
    "print(tips['tip'].min())\n",
    "print(tips['tip'].max())\n",
    "print(tips['tip'].mean())\n",
    "print(tips['tip'].skew())\n",
    "print(tips['tip'].median())"
   ]
  },
  {
   "cell_type": "markdown",
   "id": "d92a67a0-61a2-4de4-bf79-6370ad70d50b",
   "metadata": {},
   "source": [
    "### Final inferences about tips:\n",
    "`Inferences about Tips: `  \n",
    "`Many tipped around 2$`  \n",
    "`followed by 3$`  \n",
    "`very handful >5$`  \n",
    "`Mean: 2.9$`  \n",
    "`Rightly Skewed`  \n",
    "`Outliers: >$5.9`  \n",
    "`25th Percentile: 2$`  \n",
    "`75th Percentile: 3.6$`  \n",
    "`Median: 3.9$`"
   ]
  },
  {
   "cell_type": "markdown",
   "id": "f439667a-451f-47ab-b1a3-902bf423b5b9",
   "metadata": {},
   "source": [
    "## 3. Sex - Categorical Analysis"
   ]
  },
  {
   "cell_type": "code",
   "execution_count": 63,
   "id": "82fda92a-f7da-440f-b44c-d8efe058f4f8",
   "metadata": {},
   "outputs": [
    {
     "name": "stdout",
     "output_type": "stream",
     "text": [
      "sex\n",
      "Male      157\n",
      "Female     87\n",
      "Name: count, dtype: int64\n"
     ]
    },
    {
     "data": {
      "text/plain": [
       "<Axes: xlabel='sex', ylabel='count'>"
      ]
     },
     "execution_count": 63,
     "metadata": {},
     "output_type": "execute_result"
    },
    {
     "data": {
      "image/png": "[encoded data removed]",
      "text/plain": [
       "<Figure size 640x480 with 1 Axes>"
      ]
     },
     "metadata": {},
     "output_type": "display_data"
    }
   ],
   "source": [
    "# count plot\n",
    "print(tips['sex'].value_counts())\n",
    "sns.countplot(x = 'sex', hue='sex', data = tips, legend = True)"
   ]
  },
  {
   "cell_type": "code",
   "execution_count": 66,
   "id": "f531847c-1740-4e1a-920d-50563ecbab9c",
   "metadata": {},
   "outputs": [
    {
     "data": {
      "text/plain": [
       "<Axes: ylabel='count'>"
      ]
     },
     "execution_count": 66,
     "metadata": {},
     "output_type": "execute_result"
    },
    {
     "data": {
      "image/png": "[encoded data removed]",
      "text/plain": [
       "<Figure size 640x480 with 1 Axes>"
      ]
     },
     "metadata": {},
     "output_type": "display_data"
    }
   ],
   "source": [
    "tips['sex'].value_counts().plot(kind='pie', autopct='%.2f')"
   ]
  },
  {
   "cell_type": "markdown",
   "id": "938fba07-3726-4eca-bc4f-43a73fc98461",
   "metadata": {},
   "source": [
    "### Final inferences about sex:\n",
    "`Male: 157    Female: 87`  \n",
    "`Male: 64.34% Female: 35.66%`"
   ]
  },
  {
   "cell_type": "markdown",
   "id": "056b68c7-69c9-4a50-aa4e-9ca784488580",
   "metadata": {},
   "source": [
    "# 4. smoker - Categorical Analysis"
   ]
  },
  {
   "cell_type": "code",
   "execution_count": 65,
   "id": "7113dab8-1567-4fcb-aeaa-7480eb9a3a74",
   "metadata": {},
   "outputs": [
    {
     "name": "stdout",
     "output_type": "stream",
     "text": [
      "smoker\n",
      "No     151\n",
      "Yes     93\n",
      "Name: count, dtype: int64\n"
     ]
    },
    {
     "data": {
      "text/plain": [
       "<Axes: xlabel='smoker', ylabel='count'>"
      ]
     },
     "execution_count": 65,
     "metadata": {},
     "output_type": "execute_result"
    },
    {
     "data": {
      "image/png": "[encoded data removed]",
      "text/plain": [
       "<Figure size 640x480 with 1 Axes>"
      ]
     },
     "metadata": {},
     "output_type": "display_data"
    }
   ],
   "source": [
    "print(tips['smoker'].value_counts())\n",
    "sns.countplot(x = 'smoker', data = tips, hue = 'smoker', legend = True)"
   ]
  },
  {
   "cell_type": "code",
   "execution_count": 67,
   "id": "6fff3afd-f370-4752-957f-6b44e25ff6b2",
   "metadata": {},
   "outputs": [
    {
     "data": {
      "text/plain": [
       "<Axes: ylabel='count'>"
      ]
     },
     "execution_count": 67,
     "metadata": {},
     "output_type": "execute_result"
    },
    {
     "data": {
      "image/png": "[encoded data removed]",
      "text/plain": [
       "<Figure size 640x480 with 1 Axes>"
      ]
     },
     "metadata": {},
     "output_type": "display_data"
    }
   ],
   "source": [
    "tips['smoker'].value_counts().plot(kind='pie', autopct='%.2f')"
   ]
  },
  {
   "cell_type": "markdown",
   "id": "550f4fb2-9c2c-40f4-b5c1-2e22f2078a4d",
   "metadata": {},
   "source": [
    "### Final inferences about smoker:\n",
    "`Yes: 93     No: 151`  \n",
    "`Yes: 38.11% No: 61.89%`"
   ]
  },
  {
   "cell_type": "markdown",
   "id": "4bca8e4b-1499-4e09-8521-feaa42e480e1",
   "metadata": {},
   "source": [
    "## 5. day - Categorical analysis"
   ]
  },
  {
   "cell_type": "code",
   "execution_count": 76,
   "id": "c5884eb0-3b64-404a-b5f8-0d9246236351",
   "metadata": {},
   "outputs": [
    {
     "name": "stdout",
     "output_type": "stream",
     "text": [
      "day\n",
      "Sat     87\n",
      "Sun     76\n",
      "Thur    62\n",
      "Fri     19\n",
      "Name: count, dtype: int64\n"
     ]
    },
    {
     "data": {
      "text/plain": [
       "<Axes: xlabel='day', ylabel='count'>"
      ]
     },
     "execution_count": 76,
     "metadata": {},
     "output_type": "execute_result"
    },
    {
     "data": {
      "image/png": "[encoded data removed]",
      "text/plain": [
       "<Figure size 640x480 with 1 Axes>"
      ]
     },
     "metadata": {},
     "output_type": "display_data"
    }
   ],
   "source": [
    "print(tips['day'].value_counts())\n",
    "sns.countplot(x = 'day', data = tips, hue = 'day')"
   ]
  },
  {
   "cell_type": "code",
   "execution_count": 75,
   "id": "3582d168-7111-4b0e-a7f9-86a654003fb7",
   "metadata": {},
   "outputs": [
    {
     "data": {
      "text/plain": [
       "<Axes: ylabel='count'>"
      ]
     },
     "execution_count": 75,
     "metadata": {},
     "output_type": "execute_result"
    },
    {
     "data": {
      "image/png": "[encoded data removed]",
      "text/plain": [
       "<Figure size 640x480 with 1 Axes>"
      ]
     },
     "metadata": {},
     "output_type": "display_data"
    }
   ],
   "source": [
    "tips['day'].value_counts().plot(kind='pie', autopct='%.2f')"
   ]
  },
  {
   "cell_type": "markdown",
   "id": "d15ff873-59d8-4ec7-818c-5f6536c2a0ca",
   "metadata": {},
   "source": [
    "### Final inferences about day:\n",
    "- **Sat**: 87 (35.66%)\n",
    "- **Sun**: 76 (31.15%)\n",
    "- **Thur**: 62 (25.41%)\n",
    "- **Fri**: 19 (7.79%)\n",
    "\n"
   ]
  },
  {
   "cell_type": "markdown",
   "id": "19c230b6-1d03-46a4-85b6-2debb2dd7e6a",
   "metadata": {},
   "source": [
    "## 6. time - categorical analysis"
   ]
  },
  {
   "cell_type": "code",
   "execution_count": 81,
   "id": "56c36200-d68f-4161-98b0-3471d8883d6b",
   "metadata": {},
   "outputs": [
    {
     "name": "stdout",
     "output_type": "stream",
     "text": [
      "time\n",
      "Dinner    176\n",
      "Lunch      68\n",
      "Name: count, dtype: int64\n"
     ]
    },
    {
     "data": {
      "text/plain": [
       "<Axes: xlabel='time', ylabel='count'>"
      ]
     },
     "execution_count": 81,
     "metadata": {},
     "output_type": "execute_result"
    },
    {
     "data": {
      "image/png": "[encoded data removed]",
      "text/plain": [
       "<Figure size 640x480 with 1 Axes>"
      ]
     },
     "metadata": {},
     "output_type": "display_data"
    }
   ],
   "source": [
    "print(tips['time'].value_counts())\n",
    "sns.countplot(x = 'time', data = tips, hue = 'time')"
   ]
  },
  {
   "cell_type": "code",
   "execution_count": 82,
   "id": "3b969884-1217-4d1d-b24c-12ef681be184",
   "metadata": {},
   "outputs": [
    {
     "data": {
      "text/plain": [
       "<Axes: ylabel='count'>"
      ]
     },
     "execution_count": 82,
     "metadata": {},
     "output_type": "execute_result"
    },
    {
     "data": {
      "image/png": "[encoded data removed]",
      "text/plain": [
       "<Figure size 640x480 with 1 Axes>"
      ]
     },
     "metadata": {},
     "output_type": "display_data"
    }
   ],
   "source": [
    "tips['time'].value_counts().plot(kind='pie', autopct='%.2f')"
   ]
  },
  {
   "cell_type": "markdown",
   "id": "882cb94d-8d0b-43f3-aa38-451572e227b2",
   "metadata": {},
   "source": [
    "### Final inferences about time:\n",
    "- **Lunch**: 68 (27.87%)\n",
    "- **Dinner**: 176 (72.13%)\n",
    "\n"
   ]
  },
  {
   "cell_type": "markdown",
   "id": "8e02c277-1d46-403e-a66d-e90dbad4dfc2",
   "metadata": {},
   "source": [
    "## 7. size - Numerical Analysis"
   ]
  },
  {
   "cell_type": "code",
   "execution_count": 88,
   "id": "e7a34b96-fe57-4d07-a775-61fef8cef84f",
   "metadata": {},
   "outputs": [
    {
     "data": {
      "text/plain": [
       "(array([  4.,   0., 156.,   0.,  38.,   0.,  37.,   0.,   5.,   4.]),\n",
       " array([1. , 1.5, 2. , 2.5, 3. , 3.5, 4. , 4.5, 5. , 5.5, 6. ]),\n",
       " <BarContainer object of 10 artists>)"
      ]
     },
     "execution_count": 88,
     "metadata": {},
     "output_type": "execute_result"
    },
    {
     "data": {
      "image/png": "[encoded data removed]",
      "text/plain": [
       "<Figure size 640x480 with 1 Axes>"
      ]
     },
     "metadata": {},
     "output_type": "display_data"
    }
   ],
   "source": [
    "plt.hist(tips['size'])"
   ]
  },
  {
   "cell_type": "code",
   "execution_count": 97,
   "id": "f8c97281-6a69-4e4d-882b-8da6d81dcf90",
   "metadata": {},
   "outputs": [
    {
     "data": {
      "text/plain": [
       "<Axes: xlabel='size', ylabel='Count'>"
      ]
     },
     "execution_count": 97,
     "metadata": {},
     "output_type": "execute_result"
    },
    {
     "data": {
      "image/png": "[encoded data removed]",
      "text/plain": [
       "<Figure size 640x480 with 1 Axes>"
      ]
     },
     "metadata": {},
     "output_type": "display_data"
    }
   ],
   "source": [
    "sns.histplot(x = 'size', data = tips, kde=True)"
   ]
  },
  {
   "cell_type": "code",
   "execution_count": 98,
   "id": "2bb2f27e-cecb-4ecd-8bbe-8596ffbe68d5",
   "metadata": {},
   "outputs": [
    {
     "data": {
      "text/plain": [
       "<Axes: xlabel='size'>"
      ]
     },
     "execution_count": 98,
     "metadata": {},
     "output_type": "execute_result"
    },
    {
     "data": {
      "image/png": "[encoded data removed]",
      "text/plain": [
       "<Figure size 640x480 with 1 Axes>"
      ]
     },
     "metadata": {},
     "output_type": "display_data"
    }
   ],
   "source": [
    "sns.boxplot(x=tips['size'])"
   ]
  },
  {
   "cell_type": "code",
   "execution_count": 102,
   "id": "f74a1dfe-b8da-4932-ac3a-7f886ef9d26e",
   "metadata": {},
   "outputs": [
    {
     "name": "stdout",
     "output_type": "stream",
     "text": [
      "1\n",
      "6\n",
      "2.569672131147541\n",
      "2.0\n",
      "1.4478815386834785\n"
     ]
    }
   ],
   "source": [
    "print(tips['size'].min())\n",
    "print(tips['size'].max())\n",
    "print(tips['size'].mean())\n",
    "print(tips['size'].median())\n",
    "print(tips['size'].skew())"
   ]
  },
  {
   "cell_type": "markdown",
   "id": "a68479d7-1a79-4f32-90b9-194ae1639352",
   "metadata": {},
   "source": [
    "### final inferences about size:\n",
    "`Maximum people came with size: 2`  \n",
    "`very few came with 1, 5, 6 size`  \n",
    "`Minimum: 1`  \n",
    "`Maximum: 6`  \n",
    "`Mean: 2.56`  \n",
    "`Median: 2.0`  \n",
    "`25th percentile: 2`  \n",
    "`75th percentile: 3`  \n",
    "`outliers: >4`"
   ]
  },
  {
   "cell_type": "code",
   "execution_count": null,
   "id": "83b09d7a-e5a0-4271-bc35-51c27145a912",
   "metadata": {},
   "outputs": [],
   "source": []
  }
 ],
 "metadata": {
  "kernelspec": {
   "display_name": "Python [conda env:base] *",
   "language": "python",
   "name": "conda-base-py"
  },
  "language_info": {
   "codemirror_mode": {
    "name": "ipython",
    "version": 3
   },
   "file_extension": ".py",
   "mimetype": "text/x-python",
   "name": "python",
   "nbconvert_exporter": "python",
   "pygments_lexer": "ipython3",
   "version": "3.13.5"
  }
 },
 "nbformat": 4,
 "nbformat_minor": 5
}
