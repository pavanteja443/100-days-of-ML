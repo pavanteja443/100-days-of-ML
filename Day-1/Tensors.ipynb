{
  "nbformat": 4,
  "nbformat_minor": 0,
  "metadata": {
    "colab": {
      "provenance": []
    },
    "kernelspec": {
      "name": "python3",
      "display_name": "Python 3"
    },
    "language_info": {
      "name": "python"
    }
  },
  "cells": [
    {
      "cell_type": "code",
      "execution_count": 1,
      "metadata": {
        "id": "HFUpmKG89_xa"
      },
      "outputs": [],
      "source": [
        "import numpy as np"
      ]
    },
    {
      "cell_type": "code",
      "source": [
        "a = np.array(4)"
      ],
      "metadata": {
        "id": "sr5PDUUb-Fxv"
      },
      "execution_count": 2,
      "outputs": []
    },
    {
      "cell_type": "code",
      "source": [
        "a # -> 0d Tensor"
      ],
      "metadata": {
        "colab": {
          "base_uri": "https://localhost:8080/"
        },
        "id": "omaHOIKb-Hrd",
        "outputId": "f99dbc4e-267c-4bb0-b0a9-9ff05720cf54"
      },
      "execution_count": 3,
      "outputs": [
        {
          "output_type": "execute_result",
          "data": {
            "text/plain": [
              "array(4)"
            ]
          },
          "metadata": {},
          "execution_count": 3
        }
      ]
    },
    {
      "cell_type": "code",
      "source": [
        "a.ndim # -> 0d Tensor"
      ],
      "metadata": {
        "colab": {
          "base_uri": "https://localhost:8080/"
        },
        "id": "AkPItJk8-IFo",
        "outputId": "bb9f10ed-2b95-44e5-f2d0-80519c2508b1"
      },
      "execution_count": 14,
      "outputs": [
        {
          "output_type": "execute_result",
          "data": {
            "text/plain": [
              "0"
            ]
          },
          "metadata": {},
          "execution_count": 14
        }
      ]
    },
    {
      "cell_type": "code",
      "source": [
        "arr = np.array([1, 2, 3, 4])\n",
        "arr"
      ],
      "metadata": {
        "colab": {
          "base_uri": "https://localhost:8080/"
        },
        "id": "6Sushjfl-xIj",
        "outputId": "af8e70c8-fbf8-4cb3-b595-95a9cc1f9eb4"
      },
      "execution_count": 15,
      "outputs": [
        {
          "output_type": "execute_result",
          "data": {
            "text/plain": [
              "array([1, 2, 3, 4])"
            ]
          },
          "metadata": {},
          "execution_count": 15
        }
      ]
    },
    {
      "cell_type": "code",
      "source": [
        "arr.ndim # -> 1d Tensor\n",
        "# Axis = Dimension of Tensor\n",
        "# No of Axes = Rank = Dimension"
      ],
      "metadata": {
        "colab": {
          "base_uri": "https://localhost:8080/"
        },
        "id": "MrF2lpTe_UIY",
        "outputId": "10443412-1da3-4c93-8770-74dd4277eb69"
      },
      "execution_count": 16,
      "outputs": [
        {
          "output_type": "execute_result",
          "data": {
            "text/plain": [
              "1"
            ]
          },
          "metadata": {},
          "execution_count": 16
        }
      ]
    },
    {
      "cell_type": "code",
      "source": [
        "mat = np.array([[1,2,3], [4, 5, 6], [7, 8, 9]])"
      ],
      "metadata": {
        "id": "rBWjSLiT_hG1"
      },
      "execution_count": 17,
      "outputs": []
    },
    {
      "cell_type": "code",
      "source": [
        "mat\n"
      ],
      "metadata": {
        "colab": {
          "base_uri": "https://localhost:8080/"
        },
        "id": "rM1_8VWbAwi-",
        "outputId": "e86e9d0b-d1ea-435d-acb9-0e3f838e30d4"
      },
      "execution_count": 18,
      "outputs": [
        {
          "output_type": "execute_result",
          "data": {
            "text/plain": [
              "array([[1, 2, 3],\n",
              "       [4, 5, 6],\n",
              "       [7, 8, 9]])"
            ]
          },
          "metadata": {},
          "execution_count": 18
        }
      ]
    },
    {
      "cell_type": "code",
      "source": [
        "mat.ndim # -> 2d Tensor"
      ],
      "metadata": {
        "colab": {
          "base_uri": "https://localhost:8080/"
        },
        "id": "djQz7XeCAw5E",
        "outputId": "464c0c74-a0e6-4bc8-a002-fd094f76e4fe"
      },
      "execution_count": 19,
      "outputs": [
        {
          "output_type": "execute_result",
          "data": {
            "text/plain": [
              "2"
            ]
          },
          "metadata": {},
          "execution_count": 19
        }
      ]
    },
    {
      "cell_type": "markdown",
      "source": [
        "No of Axes = Rank = Dimension\n",
        "\n",
        "for a Vector, it also has Vector dimension which is no of elements of vector.\n",
        "\n",
        "a = [1, 2, 3, 4] -> 4D vector & 1D Tensor\n",
        "\n",
        "Nth Dimension Tensor is collection of (N-1)th Dimension Tensors\n",
        "\n"
      ],
      "metadata": {
        "id": "6oH7LIkNCRWY"
      }
    },
    {
      "cell_type": "markdown",
      "source": [
        "# Rank, Axes, Shape, Size\n",
        "\n",
        "for a scalar: Axes = Rank = Dimensions = 0\n",
        "\n",
        "for 1+ D Tensors:\n",
        "No of Axes = Rank = No.of Dimensions\n",
        "\n",
        "Shape = no of elements of each dimension of tensor\n",
        "Size = No of elements in Tensor, product of numbers of shape\n",
        "ex: [[1, 2, 3], [4, 5, 6]] shape: (2, 3), size: 6\n",
        "\n",
        "for a scalar: size is always 1\n",
        "\n",
        "for vector: [1, 2, 3, 4] shape: (4), size: 4\n",
        "\n"
      ],
      "metadata": {
        "id": "q4Ff0gotC1Dv"
      }
    },
    {
      "cell_type": "code",
      "source": [],
      "metadata": {
        "id": "lYReo-wpAySu"
      },
      "execution_count": null,
      "outputs": []
    }
  ]
}